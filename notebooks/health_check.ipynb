{
 "cells": [
  {
   "cell_type": "markdown",
   "metadata": {},
   "source": [
    "# Data Platform Health Check\n",
    "\n",
    "This notebook checks the health of all jobs in the data platform and provides logs for the most recent run if any job has failed."
   ]
  },
  {
   "cell_type": "code",
   "execution_count": 1,
   "metadata": {},
   "outputs": [
    {
     "ename": "ModuleNotFoundError",
     "evalue": "No module named 'docker'",
     "output_type": "error",
     "traceback": [
      "\u001b[0;31m---------------------------------------------------------------------------\u001b[0m",
      "\u001b[0;31mModuleNotFoundError\u001b[0m                       Traceback (most recent call last)",
      "Cell \u001b[0;32mIn[1], line 1\u001b[0m\n\u001b[0;32m----> 1\u001b[0m \u001b[38;5;28;01mimport\u001b[39;00m \u001b[38;5;21;01mdocker\u001b[39;00m\n\u001b[1;32m      2\u001b[0m \u001b[38;5;28;01mimport\u001b[39;00m \u001b[38;5;21;01mpandas\u001b[39;00m \u001b[38;5;28;01mas\u001b[39;00m \u001b[38;5;21;01mpd\u001b[39;00m\n\u001b[1;32m      4\u001b[0m \u001b[38;5;66;03m# List of job container names\u001b[39;00m\n",
      "\u001b[0;31mModuleNotFoundError\u001b[0m: No module named 'docker'"
     ]
    }
   ],
   "source": [
    "import docker\n",
    "import pandas as pd\n",
    "\n",
    "# List of job container names\n",
    "job_containers = [\n",
    "    'data-platform-airflow-init-1',\n",
    "    'data-platform-airflow-webserver-1',\n",
    "    'data-platform-airflow-scheduler-1',\n",
    "    'data-platform-spark-1',\n",
    "    'data-platform-spark-worker-1',\n",
    "    'data-platform-spark-history-server-1',\n",
    "    'data-platform-sqlserver-1',\n",
    "    'data-platform-trino-1',\n",
    "    'data-platform-jupyter-1',\n",
    "    'data-platform-postgres-1'\n",
    "]\n",
    "\n",
    "def get_container_health(container_name):\n",
    "    try:\n",
    "        client = docker.from_env()\n",
    "        container = client.containers.get(container_name)\n",
    "        status = container.status\n",
    "        logs = container.logs().decode('utf-8')\n",
    "        return status, logs\n",
    "    except docker.errors.NotFound:\n",
    "        return 'Not Found', 'Container not found'\n",
    "    except Exception as e:\n",
    "        return 'Error', str(e)\n",
    "\n",
    "# Get health status of each container\n",
    "health_data = {container: get_container_health(container) for container in job_containers}\n",
    "\n",
    "# Create a DataFrame to display the health status\n",
    "health_df = pd.DataFrame([(container, status) for container, (status, _) in health_data.items()],\n",
    "                          columns=['Container', 'Status'])\n",
    "print(health_df)\n",
    "\n",
    "# Display logs for any containers that are not running\n",
    "for container, (status, logs) in health_data.items():\n",
    "    if status != 'running':\n",
    "        print(f'\\nLogs for {container}:')\n",
    "        print(logs)"
   ]
  },
  {
   "cell_type": "code",
   "execution_count": null,
   "metadata": {},
   "outputs": [],
   "source": []
  }
 ],
 "metadata": {
  "kernelspec": {
   "display_name": "Python 3 (ipykernel)",
   "language": "python",
   "name": "python3"
  },
  "language_info": {
   "codemirror_mode": {
    "name": "ipython",
    "version": 3
   },
   "file_extension": ".py",
   "mimetype": "text/x-python",
   "name": "python",
   "nbconvert_exporter": "python",
   "pygments_lexer": "ipython3",
   "version": "3.11.6"
  }
 },
 "nbformat": 4,
 "nbformat_minor": 4
}
